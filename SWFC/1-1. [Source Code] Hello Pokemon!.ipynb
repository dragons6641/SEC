{
 "cells": [
  {
   "cell_type": "code",
   "execution_count": null,
   "id": "98c170c1-75f6-4713-b894-21b217ab99b1",
   "metadata": {},
   "outputs": [],
   "source": [
    "import tensorflow as tf\n",
    "from tensorflow import keras\n",
    "# from resnext import ResNext\n",
    "# from resnext import ResNextImageNet\n",
    "\n",
    "print(\"TensorFlow version is \", tf.__version__)\n",
    "\n",
    "import os\n",
    "import numpy as np\n",
    "\n",
    "import matplotlib.pyplot as plt\n",
    "import matplotlib.image as mpimg\n",
    "\n",
    "# from tensorflow.keras.models import Sequential\n",
    "# from tensorflow.keras.layers import Dense, Conv2D, Flatten, Dropout, MaxPooling2D\n",
    "from tensorflow.keras.preprocessing.image import ImageDataGenerator\n",
    "from sklearn.metrics import classification_report\n",
    "\n",
    "# tf.compat.v1.enable_eager_execution()\n",
    "# tf.compat.v1.disable_eager_execution()\n",
    "\n",
    "%matplotlib inline"
   ]
  },
  {
   "cell_type": "code",
   "execution_count": null,
   "id": "76eca5c8-67d0-45e3-a416-14f505571640",
   "metadata": {},
   "outputs": [],
   "source": [
    "class_names = ['bulbasaur', 'charmander', 'eevee', 'gengar', 'gyarados',\n",
    "               'meowth', 'mewtwo', 'pikachu', 'raichu', 'squirtle']"
   ]
  },
  {
   "cell_type": "code",
   "execution_count": null,
   "id": "2b7fb0e9-d6da-4849-bb9b-2c203a3859c0",
   "metadata": {},
   "outputs": [],
   "source": [
    "train_dir = './pokemon_data/train'\n",
    "\n",
    "validation_dir = './pokemon_data/val'\n",
    "\n",
    "test_dir = './pokemon_data/test'"
   ]
  },
  {
   "cell_type": "code",
   "execution_count": null,
   "id": "d8204308-7901-44bb-afc7-dfb883c15d8e",
   "metadata": {},
   "outputs": [],
   "source": [
    "train_bulbasaur_dir = os.path.join(train_dir, 'bulbasaur') \n",
    "train_charmander_dir = os.path.join(train_dir, 'charmander') \n",
    "train_eevee_dir = os.path.join(train_dir, 'eevee')  \n",
    "train_gengar_dir = os.path.join(train_dir, 'gengar')  \n",
    "train_gyarados_dir = os.path.join(train_dir, 'gyarados')  \n",
    "train_meowth_dir = os.path.join(train_dir, 'meowth')  \n",
    "train_mewtwo_dir = os.path.join(train_dir, 'mewtwo')  \n",
    "train_pikachu_dir = os.path.join(train_dir, 'pikachu')  \n",
    "train_raichu_dir = os.path.join(train_dir, 'raichu')  \n",
    "train_squirtle_dir = os.path.join(train_dir, 'squirtle') \n",
    "\n",
    "validation_bulbasaur_dir = os.path.join(validation_dir, 'bulbasaur') \n",
    "validation_charmander_dir = os.path.join(validation_dir, 'charmander')  \n",
    "validation_eevee_dir = os.path.join(validation_dir, 'eevee')  \n",
    "validation_gengar_dir = os.path.join(validation_dir, 'gengar')  \n",
    "validation_gyarados_dir = os.path.join(validation_dir, 'gyarados')  \n",
    "validation_meowth_dir = os.path.join(validation_dir, 'meowth')  \n",
    "validation_mewtwo_dir = os.path.join(validation_dir, 'mewtwo')  \n",
    "validation_pikachu_dir = os.path.join(validation_dir, 'pikachu')  \n",
    "validation_raichu_dir = os.path.join(validation_dir, 'raichu')  \n",
    "validation_squirtle_dir = os.path.join(validation_dir, 'squirtle')  \n",
    "\n",
    "test_bulbasaur_dir = os.path.join(test_dir, 'bulbasaur') \n",
    "test_charmander_dir = os.path.join(test_dir, 'charmander') \n",
    "test_eevee_dir = os.path.join(test_dir, 'eevee')  \n",
    "test_gengar_dir = os.path.join(test_dir, 'gengar')  \n",
    "test_gyarados_dir = os.path.join(test_dir, 'gyarados')  \n",
    "test_meowth_dir = os.path.join(test_dir, 'meowth')  \n",
    "test_mewtwo_dir = os.path.join(test_dir, 'mewtwo')  \n",
    "test_pikachu_dir = os.path.join(test_dir, 'pikachu')  \n",
    "test_raichu_dir = os.path.join(test_dir, 'raichu')  \n",
    "test_squirtle_dir = os.path.join(test_dir, 'squirtle') "
   ]
  },
  {
   "cell_type": "code",
   "execution_count": null,
   "id": "c2977572-fac9-4d35-bb5f-8e83bf035992",
   "metadata": {},
   "outputs": [],
   "source": [
    "num_bulbasaur_tr = len(os.listdir(train_bulbasaur_dir))\n",
    "num_charmander_tr = len(os.listdir(train_charmander_dir))\n",
    "num_eevee_tr = len(os.listdir(train_eevee_dir))\n",
    "num_gengar_tr = len(os.listdir(train_gengar_dir))\n",
    "num_gyarados_tr = len(os.listdir(train_gyarados_dir))\n",
    "num_meowth_tr = len(os.listdir(train_meowth_dir))\n",
    "num_mewtwo_tr = len(os.listdir(train_mewtwo_dir))\n",
    "num_pikachu_tr = len(os.listdir(train_pikachu_dir))\n",
    "num_raichu_tr = len(os.listdir(train_raichu_dir))\n",
    "num_squirtle_tr = len(os.listdir(train_squirtle_dir))\n",
    "\n",
    "num_bulbasaur_val = len(os.listdir(validation_bulbasaur_dir))\n",
    "num_charmander_val = len(os.listdir(validation_charmander_dir))\n",
    "num_eevee_val = len(os.listdir(validation_eevee_dir))\n",
    "num_gengar_val = len(os.listdir(validation_gengar_dir))\n",
    "num_gyarados_val = len(os.listdir(validation_gyarados_dir))\n",
    "num_meowth_val = len(os.listdir(validation_meowth_dir))\n",
    "num_mewtwo_val = len(os.listdir(validation_mewtwo_dir))\n",
    "num_pikachu_val = len(os.listdir(validation_pikachu_dir))\n",
    "num_raichu_val = len(os.listdir(validation_raichu_dir))\n",
    "num_squirtle_val = len(os.listdir(validation_squirtle_dir))\n",
    "\n",
    "num_bulbasaur_tst = len(os.listdir(test_bulbasaur_dir))\n",
    "num_charmander_tst = len(os.listdir(test_charmander_dir))\n",
    "num_eevee_tst = len(os.listdir(test_eevee_dir))\n",
    "num_gengar_tst = len(os.listdir(test_gengar_dir))\n",
    "num_gyarados_tst = len(os.listdir(test_gyarados_dir))\n",
    "num_meowth_tst = len(os.listdir(test_meowth_dir))\n",
    "num_mewtwo_tst = len(os.listdir(test_mewtwo_dir))\n",
    "num_pikachu_tst = len(os.listdir(test_pikachu_dir))\n",
    "num_raichu_tst = len(os.listdir(test_raichu_dir))\n",
    "num_squirtle_tst = len(os.listdir(test_squirtle_dir))"
   ]
  },
  {
   "cell_type": "code",
   "execution_count": null,
   "id": "f6b8d562-6a29-4f5b-b0ed-cfdfe546cf9d",
   "metadata": {},
   "outputs": [],
   "source": [
    "print('total training bulbasaur images:', num_bulbasaur_tr)\n",
    "print('total training charmander images:', num_charmander_tr)\n",
    "print('total training eevee images:', num_eevee_tr)\n",
    "print('total training gengar images:', num_gengar_tr)\n",
    "print('total training gyarados images:', num_gyarados_tr)\n",
    "print('total training meowth images:', num_meowth_tr)\n",
    "print('total training mewtwo images:', num_mewtwo_tr)\n",
    "print('total training pikachu images:', num_pikachu_tr)\n",
    "print('total training raichu images:', num_raichu_tr)\n",
    "print('total training squirtle images:', num_squirtle_tr)\n",
    "\n",
    "print()\n",
    "\n",
    "print('total validation bulbasaur images:', num_bulbasaur_val)\n",
    "print('total validation charmander images:', num_charmander_val)\n",
    "print('total validation eevee images:', num_eevee_val)\n",
    "print('total validation gengar images:', num_gengar_val)\n",
    "print('total validation gyarados images:', num_gyarados_val)\n",
    "print('total validation meowth images:', num_meowth_val)\n",
    "print('total validation mewtwo images:', num_mewtwo_val)\n",
    "print('total validation pikachu images:', num_pikachu_val)\n",
    "print('total validation raichu images:', num_raichu_val)\n",
    "print('total validation squirtle images:', num_squirtle_val)\n",
    "\n",
    "print()\n",
    "\n",
    "print('total testing bulbasaur images:', num_bulbasaur_tst)\n",
    "print('total testing charmander images:', num_charmander_tst)\n",
    "print('total testing eevee images:', num_eevee_tst)\n",
    "print('total testing gengar images:', num_gengar_tst)\n",
    "print('total testing gyarados images:', num_gyarados_tst)\n",
    "print('total testing meowth images:', num_meowth_tst)\n",
    "print('total testing mewtwo images:', num_mewtwo_tst)\n",
    "print('total testing pikachu images:', num_pikachu_tst)\n",
    "print('total testing raichu images:', num_raichu_tst)\n",
    "print('total testing squirtle images:', num_squirtle_tst)"
   ]
  },
  {
   "cell_type": "code",
   "execution_count": null,
   "id": "1b203630-60d5-4ca2-be70-0cc818210b5d",
   "metadata": {},
   "outputs": [],
   "source": [
    "train_datagen = ImageDataGenerator(rescale=1./255)\n",
    "\n",
    "validation_datagen = ImageDataGenerator(rescale=1./255)\n",
    "\n",
    "test_datagen = ImageDataGenerator(rescale=1./255)"
   ]
  },
  {
   "cell_type": "code",
   "execution_count": null,
   "id": "57facc6c-f417-415e-983d-dbc9104f5b99",
   "metadata": {},
   "outputs": [],
   "source": [
    "image_size = 160\n",
    "\n",
    "# batch_size = (8, 16, 32)\n",
    "batch_size = 16\n",
    "\n",
    "train_generator = train_datagen.flow_from_directory(train_dir, \n",
    "                target_size = (image_size, image_size), batch_size = batch_size, class_mode = 'sparse') \n",
    "\n",
    "validation_generator = validation_datagen.flow_from_directory(validation_dir, \n",
    "                target_size = (image_size, image_size), batch_size = batch_size, class_mode = 'sparse')\n",
    "\n",
    "test_generator = test_datagen.flow_from_directory(test_dir, \n",
    "                target_size = (image_size, image_size), batch_size = batch_size, class_mode = 'sparse') "
   ]
  },
  {
   "cell_type": "code",
   "execution_count": null,
   "id": "ad6ea063-36e6-4f37-aa94-3ea4552ca6a8",
   "metadata": {},
   "outputs": [],
   "source": [
    "sample_training_images, _ = next(train_generator)"
   ]
  },
  {
   "cell_type": "code",
   "execution_count": null,
   "id": "eaa44d49-03ce-40d2-aa90-32d1a21459bb",
   "metadata": {},
   "outputs": [],
   "source": [
    "def plotImages(images_arr):\n",
    "    fig, axes = plt.subplots(1, 5, figsize=(20,20))\n",
    "    axes = axes.flatten()\n",
    "    for img, ax in zip( images_arr, axes):\n",
    "        ax.imshow(img)\n",
    "        ax.axis('off')\n",
    "    plt.tight_layout()\n",
    "    plt.show()"
   ]
  },
  {
   "cell_type": "code",
   "execution_count": null,
   "id": "b30505d1-1108-4750-b17f-19f30036f2ae",
   "metadata": {},
   "outputs": [],
   "source": [
    "plotImages(sample_training_images[:5])"
   ]
  },
  {
   "cell_type": "code",
   "execution_count": null,
   "id": "33d069dd-eaee-4397-9495-d323af355e0c",
   "metadata": {},
   "outputs": [],
   "source": [
    "IMG_SHAPE = (image_size, image_size, 3)\n",
    "\n",
    "# Pre-Trained Model 선택\n",
    "\n",
    "# MobileNetV2\n",
    "# base_model = tf.keras.applications.MobileNetV2(input_shape = IMG_SHAPE, include_top = False, weights = 'imagenet') \n",
    "\n",
    "# ResNet50V2\n",
    "base_model = tf.keras.applications.ResNet50V2(input_shape = IMG_SHAPE, include_top = False, weights = 'imagenet') \n",
    "\n",
    "# InceptionV3\n",
    "# base_model = tf.keras.applications.InceptionV3(input_shape = IMG_SHAPE, include_top = False, weights = 'imagenet')\n",
    "\n",
    "# InceptionResNetV2\n",
    "# base_model = tf.keras.applications.InceptionResNetV2(input_shape = IMG_SHAPE, include_top = False, weights = 'imagenet')\n",
    "\n",
    "# VGG19\n",
    "# base_model = tf.keras.applications.VGG19(input_shape = IMG_SHAPE, include_top = False, weights = 'imagenet') \n",
    "\n",
    "# ResNeXt101 -> 현재 버전에서는 사용 불가\n",
    "'''\n",
    "base_model = tf.keras.applications.ResNeXt101(\n",
    "             input_tensor = pinp, input_shape = IMG_SHAPE, include_top = False, weights = 'imagenet', \n",
    "             backend = keras.backend, layers = keras.layers, models = keras.models, utils = keras.utils)\n",
    "'''\n",
    "'''\n",
    "base_model = ResNext(input_tensor = pinp, input_shape = IMG_SHAPE, include_top = False, weights = 'imagenet', \n",
    "             backend = keras.backend, layers = keras.layers, models = keras.models, utils = keras.utils)\n",
    "'''\n",
    "# base_model = ResNextImageNet(image_shape)\n",
    "\n",
    "# EfficientNetB7 -> 유의미한 학습 효과 없음\n",
    "# base_model = tf.keras.applications.EfficientNetB7(input_shape = IMG_SHAPE, include_top = False, weights = 'imagenet') "
   ]
  },
  {
   "cell_type": "code",
   "execution_count": null,
   "id": "6a84eee1-a997-4b6c-ad61-25ec84c8b412",
   "metadata": {},
   "outputs": [],
   "source": [
    "base_model.trainable = False"
   ]
  },
  {
   "cell_type": "code",
   "execution_count": null,
   "id": "e344fb2c-541a-4212-a80e-a30457cb1d09",
   "metadata": {},
   "outputs": [],
   "source": [
    "base_model.summary()"
   ]
  },
  {
   "cell_type": "code",
   "execution_count": null,
   "id": "0db92037-1528-451d-915f-d156351786d1",
   "metadata": {},
   "outputs": [],
   "source": [
    "model = tf.keras.Sequential([base_model, keras.layers.GlobalAveragePooling2D(), keras.layers.Dense(10, activation='softmax')]) "
   ]
  },
  {
   "cell_type": "code",
   "execution_count": null,
   "id": "0b20f782-cad1-4864-917d-39a18be59eb1",
   "metadata": {},
   "outputs": [],
   "source": [
    "# lr = (0.0001, 0.0005, 0.001)\n",
    "\n",
    "# Optimizer 선택\n",
    "\n",
    "# RMSprop\n",
    "# model.compile(optimizer = tf.keras.optimizers.RMSprop(lr=0.0005), loss='sparse_categorical_crossentropy', metrics=['accuracy'])\n",
    "\n",
    "# Adam\n",
    "# model.compile(optimizer = 'adam', loss='sparse_categorical_crossentropy', metrics=['accuracy'])\n",
    "\n",
    "# Nesterov Momentum\n",
    "'''\n",
    "model.compile(optimizer = tf.keras.optimizers.SGD(lr=0.0005, momentum=0.9, nesterov=True), \n",
    "              loss='sparse_categorical_crossentropy', metrics=['accuracy'])\n",
    "'''\n",
    "\n",
    "# Adamax (기본값 사용 권장)\n",
    "'''\n",
    "model.compile(optimizer = keras.optimizers.Adamax(lr=0.002, beta_1=0.9, beta_2=0.999, epsilon=None, decay=0.0), \n",
    "              loss='sparse_categorical_crossentropy', metrics=['accuracy'])\n",
    "'''\n",
    "\n",
    "# Nadam (기본값 사용 권장)\n",
    "# '''\n",
    "model.compile(optimizer = keras.optimizers.Nadam(lr=0.002, beta_1=0.9, beta_2=0.999, epsilon=None, schedule_decay=0.004), \n",
    "              loss='sparse_categorical_crossentropy', metrics=['accuracy'])\n",
    "# '''"
   ]
  },
  {
   "cell_type": "code",
   "execution_count": null,
   "id": "da9f32a9-7537-4852-a9f3-e47d767ecfef",
   "metadata": {},
   "outputs": [],
   "source": [
    "model.summary()"
   ]
  },
  {
   "cell_type": "code",
   "execution_count": null,
   "id": "a3517bde-d50e-44bc-b657-e46e568d34af",
   "metadata": {},
   "outputs": [],
   "source": [
    "early_stopping = keras.callbacks.EarlyStopping(patience = 5)"
   ]
  },
  {
   "cell_type": "code",
   "execution_count": null,
   "id": "4e04e4d5-0189-445e-a3bb-0173164f96b6",
   "metadata": {},
   "outputs": [],
   "source": [
    "# epochs = (10, 15, 20)\n",
    "epochs = 50\n",
    "\n",
    "steps_per_epoch = train_generator.n // batch_size\n",
    "validation_steps = validation_generator.n // batch_size\n",
    "\n",
    "history = model.fit_generator(train_generator,\n",
    "                              steps_per_epoch = steps_per_epoch,\n",
    "                              epochs=epochs,\n",
    "                              workers=4,\n",
    "                              validation_data=validation_generator,\n",
    "                              validation_steps=validation_steps, \n",
    "                              callbacks=[early_stopping])"
   ]
  },
  {
   "cell_type": "code",
   "execution_count": null,
   "id": "eb8c0481-0721-4f9d-8c7f-b9440ef5063f",
   "metadata": {},
   "outputs": [],
   "source": [
    "acc = history.history['accuracy']\n",
    "val_acc = history.history['val_accuracy']\n",
    "\n",
    "loss = history.history['loss']\n",
    "val_loss = history.history['val_loss']\n",
    "\n",
    "plt.figure(figsize=(8, 8))\n",
    "plt.subplot(2, 1, 1)\n",
    "plt.plot(acc, label='Training Accuracy')\n",
    "plt.plot(val_acc, label='Validation Accuracy')\n",
    "plt.legend(loc='lower right')\n",
    "plt.ylabel('Accuracy')\n",
    "plt.ylim([min(plt.ylim()),1])\n",
    "plt.title('Training and Validation Accuracy')\n",
    "\n",
    "plt.subplot(2, 1, 2)\n",
    "plt.plot(loss, label='Training Loss')\n",
    "plt.plot(val_loss, label='Validation Loss')\n",
    "plt.legend(loc='upper right')\n",
    "plt.ylabel('Cross Entropy')\n",
    "plt.ylim([0,max(plt.ylim())])\n",
    "plt.title('Training and Validation Loss')\n",
    "plt.show()"
   ]
  },
  {
   "cell_type": "code",
   "execution_count": null,
   "id": "1e65c0ee-13d7-4166-a0bd-b6c26acd32d4",
   "metadata": {},
   "outputs": [],
   "source": [
    "test_loss, test_acc = model.evaluate_generator(test_generator)\n",
    "\n",
    "print('test accuracy :', test_acc)\n",
    "print('test loss :', test_loss)"
   ]
  },
  {
   "cell_type": "code",
   "execution_count": null,
   "id": "82a90204-7eed-4e0c-a151-451d223045b3",
   "metadata": {},
   "outputs": [],
   "source": [
    "train_datagen = ImageDataGenerator(\n",
    "                    rescale=1./255,\n",
    "                    rotation_range=45,\n",
    "                    width_shift_range=.15,\n",
    "                    height_shift_range=.15,\n",
    "                    horizontal_flip=True, \n",
    "                    zoom_range=0.5\n",
    "                    )"
   ]
  },
  {
   "cell_type": "code",
   "execution_count": null,
   "id": "76b6108b-73f1-4518-9fa4-033caa93cb4c",
   "metadata": {},
   "outputs": [],
   "source": [
    "train_generator = train_datagen.flow_from_directory(batch_size=batch_size,\n",
    "                                                     directory=train_dir,\n",
    "                                                     shuffle=True,\n",
    "                                                     target_size=(image_size, image_size),\n",
    "                                                     class_mode='sparse')"
   ]
  },
  {
   "cell_type": "code",
   "execution_count": null,
   "id": "56597a18-ac0f-4b7f-85dd-861fc1128c22",
   "metadata": {},
   "outputs": [],
   "source": [
    "augmented_images = [train_generator[0][0][0] for i in range(5)]\n",
    "plotImages(augmented_images)"
   ]
  },
  {
   "cell_type": "code",
   "execution_count": null,
   "id": "4ede26d9-25c3-4b85-8a84-5a65a92b6c50",
   "metadata": {},
   "outputs": [],
   "source": [
    "validation_datagen = ImageDataGenerator(rescale=1./255)"
   ]
  },
  {
   "cell_type": "code",
   "execution_count": null,
   "id": "74a9d621-c6a8-4054-b561-adf433cd3ee1",
   "metadata": {},
   "outputs": [],
   "source": [
    "validation_generator = validation_datagen.flow_from_directory(batch_size=batch_size,\n",
    "                                                 directory=validation_dir,\n",
    "                                                 target_size=(image_size, image_size),\n",
    "                                                 class_mode='sparse')"
   ]
  },
  {
   "cell_type": "code",
   "execution_count": null,
   "id": "08d516fa-6db2-4ed0-837c-c334d1784528",
   "metadata": {},
   "outputs": [],
   "source": [
    "model = tf.keras.Sequential([base_model, keras.layers.GlobalAveragePooling2D(), keras.layers.Dense(10, activation='softmax')]) "
   ]
  },
  {
   "cell_type": "code",
   "execution_count": null,
   "id": "17709217-5cb7-4d89-8b34-9e2a0623e658",
   "metadata": {},
   "outputs": [],
   "source": [
    "# lr = (0.0001, 0.0005, 0.001)\n",
    "\n",
    "# Optimizer 선택\n",
    "\n",
    "# RMSprop\n",
    "# model.compile(optimizer = tf.keras.optimizers.RMSprop(lr=0.0005), loss='sparse_categorical_crossentropy', metrics=['accuracy'])\n",
    "\n",
    "# Adam\n",
    "# model.compile(optimizer = 'adam', loss='sparse_categorical_crossentropy', metrics=['accuracy'])\n",
    "\n",
    "# Nesterov Momentum\n",
    "'''\n",
    "model.compile(optimizer = tf.keras.optimizers.SGD(lr=0.0005, momentum=0.9, nesterov=True), \n",
    "              loss='sparse_categorical_crossentropy', metrics=['accuracy'])\n",
    "'''\n",
    "\n",
    "# Adamax (기본값 사용 권장)\n",
    "'''\n",
    "model.compile(optimizer = keras.optimizers.Adamax(lr=0.002, beta_1=0.9, beta_2=0.999, epsilon=None, decay=0.0), \n",
    "              loss='sparse_categorical_crossentropy', metrics=['accuracy'])\n",
    "'''\n",
    "\n",
    "# Nadam (기본값 사용 권장)\n",
    "# '''\n",
    "model.compile(optimizer = keras.optimizers.Nadam(lr=0.002, beta_1=0.9, beta_2=0.999, epsilon=None, schedule_decay=0.004), \n",
    "              loss='sparse_categorical_crossentropy', metrics=['accuracy'])\n",
    "# '''"
   ]
  },
  {
   "cell_type": "code",
   "execution_count": null,
   "id": "c965e197-1e77-4912-bb65-f38a024c1378",
   "metadata": {},
   "outputs": [],
   "source": [
    "model.summary()"
   ]
  },
  {
   "cell_type": "code",
   "execution_count": null,
   "id": "325307c6-2303-405a-85d1-c78b1cee5398",
   "metadata": {},
   "outputs": [],
   "source": [
    "# epochs = (10, 15, 20)\n",
    "epochs = 50\n",
    "\n",
    "steps_per_epoch = train_generator.n // batch_size\n",
    "validation_steps = validation_generator.n // batch_size\n",
    "\n",
    "history = model.fit_generator(train_generator,\n",
    "                              steps_per_epoch = steps_per_epoch,\n",
    "                              epochs=epochs,\n",
    "                              workers=4,\n",
    "                              validation_data=validation_generator,\n",
    "                              validation_steps=validation_steps, \n",
    "                              callbacks=[early_stopping])"
   ]
  },
  {
   "cell_type": "code",
   "execution_count": null,
   "id": "abc1e3c5-0216-41f7-aae0-cb9d14798881",
   "metadata": {},
   "outputs": [],
   "source": [
    "acc = history.history['accuracy']\n",
    "val_acc = history.history['val_accuracy']\n",
    "\n",
    "loss = history.history['loss']\n",
    "val_loss = history.history['val_loss']\n",
    "\n",
    "plt.figure(figsize=(8, 8))\n",
    "plt.subplot(2, 1, 1)\n",
    "plt.plot(acc, label='Training Accuracy')\n",
    "plt.plot(val_acc, label='Validation Accuracy')\n",
    "plt.legend(loc='lower right')\n",
    "plt.ylabel('Accuracy')\n",
    "plt.ylim([min(plt.ylim()),1])\n",
    "plt.title('Training and Validation Accuracy')\n",
    "\n",
    "plt.subplot(2, 1, 2)\n",
    "plt.plot(loss, label='Training Loss')\n",
    "plt.plot(val_loss, label='Validation Loss')\n",
    "plt.legend(loc='upper right')\n",
    "plt.ylabel('Cross Entropy')\n",
    "plt.ylim([0,max(plt.ylim())])\n",
    "plt.title('Training and Validation Loss')\n",
    "plt.show()"
   ]
  },
  {
   "cell_type": "code",
   "execution_count": null,
   "id": "3fccdcc9-41aa-48d5-b0b9-8c2dfa3c681b",
   "metadata": {},
   "outputs": [],
   "source": [
    "test_loss, test_acc = model.evaluate_generator(test_generator)\n",
    "\n",
    "print('test accuracy :', test_acc)\n",
    "print('test loss :', test_loss)"
   ]
  },
  {
   "cell_type": "code",
   "execution_count": null,
   "id": "f847d6f8-c6b3-42fa-8b29-20f38f7097de",
   "metadata": {},
   "outputs": [],
   "source": [
    "predictions = model.predict_generator(test_generator)"
   ]
  },
  {
   "cell_type": "code",
   "execution_count": null,
   "id": "2e3307d9-97f0-4054-b10a-bef00364b754",
   "metadata": {},
   "outputs": [],
   "source": [
    "predictions[0]"
   ]
  },
  {
   "cell_type": "code",
   "execution_count": null,
   "id": "cd6e0f72-c4f2-4c8e-bcc0-9edcc33a47c3",
   "metadata": {},
   "outputs": [],
   "source": [
    "np.argmax(predictions[0])"
   ]
  },
  {
   "cell_type": "code",
   "execution_count": null,
   "id": "10a876bd-48c8-4a25-991b-b7386ea3efb8",
   "metadata": {},
   "outputs": [],
   "source": [
    "img, _ = next(test_generator)\n",
    "\n",
    "print(img.shape)"
   ]
  },
  {
   "cell_type": "code",
   "execution_count": null,
   "id": "c082202f-4052-4e2b-98d2-f54552679aaf",
   "metadata": {},
   "outputs": [],
   "source": [
    "plotImages(img[:5])"
   ]
  },
  {
   "cell_type": "code",
   "execution_count": null,
   "id": "ec67cc91-2928-4150-bf1e-3eba29c8d20a",
   "metadata": {},
   "outputs": [],
   "source": [
    "predictions_single = model.predict(img)\n",
    "\n",
    "print(predictions_single)"
   ]
  },
  {
   "cell_type": "code",
   "execution_count": null,
   "id": "96ad9969-f484-4f32-914c-883bb18a9b92",
   "metadata": {},
   "outputs": [],
   "source": [
    "prediction_result = np.argmax(predictions_single[4])\n",
    "\n",
    "print(class_names[prediction_result])"
   ]
  }
 ],
 "metadata": {
  "kernelspec": {
   "display_name": "Python 3",
   "language": "python",
   "name": "python3"
  },
  "language_info": {
   "codemirror_mode": {
    "name": "ipython",
    "version": 3
   },
   "file_extension": ".py",
   "mimetype": "text/x-python",
   "name": "python",
   "nbconvert_exporter": "python",
   "pygments_lexer": "ipython3",
   "version": "3.7.0"
  }
 },
 "nbformat": 4,
 "nbformat_minor": 5
}
